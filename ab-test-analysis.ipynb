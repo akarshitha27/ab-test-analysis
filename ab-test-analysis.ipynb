{
 "cells": [
  {
   "cell_type": "code",
   "execution_count": 6,
   "id": "e2413c40-2afd-462b-941d-b72c9ff566f6",
   "metadata": {},
   "outputs": [
    {
     "name": "stdout",
     "output_type": "stream",
     "text": [
      "Dataset created with shape: (10000, 3)\n"
     ]
    },
    {
     "data": {
      "text/html": [
       "<div>\n",
       "<style scoped>\n",
       "    .dataframe tbody tr th:only-of-type {\n",
       "        vertical-align: middle;\n",
       "    }\n",
       "\n",
       "    .dataframe tbody tr th {\n",
       "        vertical-align: top;\n",
       "    }\n",
       "\n",
       "    .dataframe thead th {\n",
       "        text-align: right;\n",
       "    }\n",
       "</style>\n",
       "<table border=\"1\" class=\"dataframe\">\n",
       "  <thead>\n",
       "    <tr style=\"text-align: right;\">\n",
       "      <th></th>\n",
       "      <th>user_id</th>\n",
       "      <th>group</th>\n",
       "      <th>converted</th>\n",
       "    </tr>\n",
       "  </thead>\n",
       "  <tbody>\n",
       "    <tr>\n",
       "      <th>0</th>\n",
       "      <td>1</td>\n",
       "      <td>A</td>\n",
       "      <td>0</td>\n",
       "    </tr>\n",
       "    <tr>\n",
       "      <th>1</th>\n",
       "      <td>2</td>\n",
       "      <td>A</td>\n",
       "      <td>1</td>\n",
       "    </tr>\n",
       "    <tr>\n",
       "      <th>2</th>\n",
       "      <td>3</td>\n",
       "      <td>A</td>\n",
       "      <td>0</td>\n",
       "    </tr>\n",
       "    <tr>\n",
       "      <th>3</th>\n",
       "      <td>4</td>\n",
       "      <td>A</td>\n",
       "      <td>0</td>\n",
       "    </tr>\n",
       "    <tr>\n",
       "      <th>4</th>\n",
       "      <td>5</td>\n",
       "      <td>A</td>\n",
       "      <td>0</td>\n",
       "    </tr>\n",
       "  </tbody>\n",
       "</table>\n",
       "</div>"
      ],
      "text/plain": [
       "   user_id group  converted\n",
       "0        1     A          0\n",
       "1        2     A          1\n",
       "2        3     A          0\n",
       "3        4     A          0\n",
       "4        5     A          0"
      ]
     },
     "execution_count": 6,
     "metadata": {},
     "output_type": "execute_result"
    }
   ],
   "source": [
    "import pandas as pd\n",
    "import numpy as np\n",
    "\n",
    "np.random.seed(42)\n",
    "\n",
    "n = 5000  \n",
    "group_a = pd.DataFrame({\n",
    "    'user_id': range(1, n+1),\n",
    "    'group': 'A',\n",
    "    'converted': np.random.binomial(1, 0.10, n)  \n",
    "})\n",
    "\n",
    "group_b = pd.DataFrame({\n",
    "    'user_id': range(n+1, 2*n+1),\n",
    "    'group': 'B',\n",
    "    'converted': np.random.binomial(1, 0.12, n)  \n",
    "})\n",
    "\n",
    "ab_data = pd.concat([group_a, group_b], ignore_index=True)\n",
    "\n",
    "ab_data.to_csv('ab_test_data.csv', index=False)\n",
    "print(\"Dataset created with shape:\", ab_data.shape)\n",
    "ab_data.head()"
   ]
  },
  {
   "cell_type": "code",
   "execution_count": 7,
   "id": "104f8e19-69c4-4e3b-8f6f-4587b85f7f3e",
   "metadata": {},
   "outputs": [
    {
     "name": "stdout",
     "output_type": "stream",
     "text": [
      "       count  sum    mean\n",
      "group                    \n",
      "A       5000  479  0.0958\n",
      "B       5000  567  0.1134\n"
     ]
    }
   ],
   "source": [
    "conversion_rates = ab_data.groupby('group')['converted'].agg(['count', 'sum', 'mean'])\n",
    "conversion_rates['mean'] = conversion_rates['mean'].round(4) \n",
    "print(conversion_rates)"
   ]
  },
  {
   "cell_type": "code",
   "execution_count": 8,
   "id": "9e51d96c-54f8-488f-99f3-78dec20c27a9",
   "metadata": {},
   "outputs": [
    {
     "name": "stdout",
     "output_type": "stream",
     "text": [
      "Contingency Table:\n",
      "converted     0    1\n",
      "group               \n",
      "A          4521  479\n",
      "B          4433  567\n",
      "\n",
      "\n",
      "Chi-Squared Statistic: 8.0815\n",
      "P-value: 0.0044720447\n"
     ]
    }
   ],
   "source": [
    "from scipy import stats\n",
    "\n",
    "contingency_table = pd.crosstab(ab_data['group'], ab_data['converted'])\n",
    "print(\"Contingency Table:\")\n",
    "print(contingency_table)\n",
    "print(\"\\n\")\n",
    "\n",
    "chi2, p_value, dof, expected = stats.chi2_contingency(contingency_table)\n",
    "\n",
    "print(f\"Chi-Squared Statistic: {chi2:.4f}\")\n",
    "print(f\"P-value: {p_value:.10f}\") "
   ]
  },
  {
   "cell_type": "code",
   "execution_count": 9,
   "id": "0dd72005-ecd6-4147-87f7-de003417372e",
   "metadata": {},
   "outputs": [
    {
     "name": "stdout",
     "output_type": "stream",
     "text": [
      "Conversion Rate (A): 0.0958\n",
      "Conversion Rate (B): 0.1134\n",
      "Absolute Difference: 0.0176\n",
      "Relative Lift: 18.37%\n"
     ]
    }
   ],
   "source": [
    "cr_a = conversion_rates.loc['A', 'mean']\n",
    "cr_b = conversion_rates.loc['B', 'mean']\n",
    "\n",
    "lift = (cr_b - cr_a) / cr_a\n",
    "\n",
    "print(f\"Conversion Rate (A): {cr_a:.4f}\")\n",
    "print(f\"Conversion Rate (B): {cr_b:.4f}\")\n",
    "print(f\"Absolute Difference: {cr_b - cr_a:.4f}\")\n",
    "print(f\"Relative Lift: {lift:.2%}\")"
   ]
  },
  {
   "cell_type": "code",
   "execution_count": 12,
   "id": "f2e504f4-3cdf-422c-92fb-203ab9b12347",
   "metadata": {},
   "outputs": [
    {
     "name": "stdout",
     "output_type": "stream",
     "text": [
      "--- A/B TEST RESULTS ---\n",
      "Control Conversion Rate (A): 9.58%\n",
      "Treatment Conversion Rate (B): 11.34%\n",
      "Relative Lift: 18.37%\n",
      "P-value: 0.0045\n",
      "\n",
      "\n",
      "CONCLUSION & RECOMMENDATION:\n",
      "1.The increase in conversion rate for Variant B is statistically significant (p < 0.05).\n",
      "2.We recommend rolling out the new design to 100% of users.\n",
      "3.This change is projected to increase conversions by 18.37%.\n"
     ]
    }
   ],
   "source": [
    "print(\"--- A/B TEST RESULTS ---\")\n",
    "print(f\"Control Conversion Rate (A): {cr_a:.2%}\")\n",
    "print(f\"Treatment Conversion Rate (B): {cr_b:.2%}\")\n",
    "print(f\"Relative Lift: {lift:.2%}\")\n",
    "print(f\"P-value: {p_value:.4f}\")\n",
    "print(\"\\n\")\n",
    "print(\"CONCLUSION & RECOMMENDATION:\")\n",
    "print(\"1.The increase in conversion rate for Variant B is statistically significant (p < 0.05).\")\n",
    "print(\"2.We recommend rolling out the new design to 100% of users.\")\n",
    "print(f\"3.This change is projected to increase conversions by {lift:.2%}.\")"
   ]
  },
  {
   "cell_type": "code",
   "execution_count": null,
   "id": "5a795347-62e8-408b-9f8f-6c538bffca48",
   "metadata": {},
   "outputs": [],
   "source": []
  }
 ],
 "metadata": {
  "kernelspec": {
   "display_name": "Python 3 (ipykernel)",
   "language": "python",
   "name": "python3"
  },
  "language_info": {
   "codemirror_mode": {
    "name": "ipython",
    "version": 3
   },
   "file_extension": ".py",
   "mimetype": "text/x-python",
   "name": "python",
   "nbconvert_exporter": "python",
   "pygments_lexer": "ipython3",
   "version": "3.12.7"
  }
 },
 "nbformat": 4,
 "nbformat_minor": 5
}
